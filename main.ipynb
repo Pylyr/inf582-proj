{
 "cells": [
  {
   "cell_type": "code",
   "execution_count": 33,
   "metadata": {},
   "outputs": [],
   "source": [
    "from transformers import MBartForConditionalGeneration, MBart50TokenizerFast\n",
    "import pandas as pd\n",
    "import torch\n",
    "from rouge_score import rouge_scorer\n",
    "from tqdm import tqdm"
   ]
  },
  {
   "cell_type": "code",
   "execution_count": null,
   "metadata": {},
   "outputs": [],
   "source": [
    "model_name = \"facebook/mbart-large-50-many-to-many-mmt\"\n",
    "model = MBartForConditionalGeneration.from_pretrained(model_name)\n",
    "tokenizer = MBart50TokenizerFast.from_pretrained(model_name)"
   ]
  },
  {
   "cell_type": "code",
   "execution_count": 36,
   "metadata": {},
   "outputs": [],
   "source": [
    "train_df = pd.read_csv('data/train.csv', dtype={'text': str, 'titles': str})\n",
    "validation_df = pd.read_csv('data/validation.csv', dtype={'text': str, 'titles': str})\n",
    "# longest title is 967 words"
   ]
  },
  {
   "cell_type": "code",
   "execution_count": null,
   "metadata": {},
   "outputs": [],
   "source": [
    "example_article = \"Sur les réseaux sociaux, les images sont impressionnantes. Dimanche matin à Venise, l'équipage du MSC Opéra a perdu le contrôle du paquebot, à son arrivée dans le port de la cité des Doges. Le navire, qui peut contenir plus de 2.600 passagers, est venu heurter le quai auquel il voulait s'arrimer. Le paquebot a raclé le quai sur plusieurs mètres, suscitant la panique des personnes à terre, avant de percuter un autre bateau touristique, le Michelangelo, stoppant ainsi sa course. Des témoins ont filmé la scène. Les vidéos montrent des touristes courant pour tenter de fuir le paquebot, qui ne semble pas vouloir s'arrêter. Quatre personnes ont été blessées dans cet accident : deux légèrement, tandis que les deux autres ont été transportées à l'hôpital pour des examens. L'incident s'est produit à San Basilio-Zaterre, dans le canal de la Giudecca, où de nombreux navires de croisière s'arrêtent pour permettre à leurs passagers de visiter Venise.Selon le quotidien italien Corriere della Serra, cette course folle serait due aux forts courants et à la rupture de l'un des câbles qui reliait le navire au remorqueur, qui l'aidait à entrer dans le canal.\"\n",
    "\n",
    "example_title = 'Le bateau de croisière, long de 275 m, a percuté un quai lors de son arrivée dans le port de Venise, dimanche 2 juin. Quatre personnes ont été blessées.'"
   ]
  },
  {
   "cell_type": "code",
   "execution_count": 48,
   "metadata": {},
   "outputs": [],
   "source": [
    "def mbart_summary(text_series: pd.Series, batch_size: int = 4) -> pd.Series:\n",
    "    summaries = []\n",
    "    tokenizer.src_lang = \"fr_XX\"\n",
    "    assert isinstance(model, MBartForConditionalGeneration)\n",
    "\n",
    "    for i in range(0, len(text_series), batch_size):\n",
    "        batch = text_series[i:i+batch_size].tolist()\n",
    "        encoded_articles = tokenizer(\n",
    "            batch, return_tensors=\"pt\", padding=True, truncation=True, max_length=1024)\n",
    "        summary_tokens = model.generate(\n",
    "            **encoded_articles, max_length=150, num_beams=4, early_stopping=True)\n",
    "\n",
    "        batch_summaries = [tokenizer.decode(\n",
    "            g, skip_special_tokens=True) for g in summary_tokens]\n",
    "        summaries.extend(batch_summaries)\n",
    "\n",
    "    return pd.Series(summaries)"
   ]
  },
  {
   "cell_type": "code",
   "execution_count": 49,
   "metadata": {},
   "outputs": [],
   "source": [
    "def score_summaries(predicted_summary: pd.Series, reference_summary: pd.Series):\n",
    "    scorer = rouge_scorer.RougeScorer(['rouge1', 'rouge2', 'rougeL'], use_stemmer=True)\n",
    "    scores = []\n",
    "    for i in tqdm(range(len(predicted_summary))):\n",
    "        score = scorer.score(predicted_summary[i], reference_summary[i])[\n",
    "            'rougeL'][2]\n",
    "        scores.append(score)\n",
    "    avg_score = sum(scores) / len(scores)\n",
    "\n",
    "    return avg_score"
   ]
  },
  {
   "cell_type": "code",
   "execution_count": 51,
   "metadata": {},
   "outputs": [
    {
     "name": "stdout",
     "output_type": "stream",
     "text": [
      "batch_size=1 took 219.00986194610596 seconds\n",
      "batch_size=2 took 139.4237277507782 seconds\n",
      "batch_size=4 took 112.87465715408325 seconds\n",
      "batch_size=8 took 131.28534698486328 seconds\n"
     ]
    }
   ],
   "source": [
    "# summaries = mbart_summary(validation_df['text'][:10])\n",
    "\n",
    "# time mbart_summary with batch_size=1, 2, 4, 8\n",
    "\n",
    "import time\n",
    "for batch_size in [1, 2, 4, 8]:\n",
    "    start = time.time()\n",
    "    summaries = mbart_summary(validation_df['text'][:8], batch_size=batch_size)\n",
    "    end = time.time()\n",
    "    print(f\"batch_size={batch_size} took {end-start} seconds\")"
   ]
  },
  {
   "cell_type": "code",
   "execution_count": null,
   "metadata": {},
   "outputs": [
    {
     "name": "stderr",
     "output_type": "stream",
     "text": [
      "100%|██████████| 10/10 [00:00<00:00, 156.44it/s]\n"
     ]
    },
    {
     "data": {
      "text/plain": [
       "0.11877055351518588"
      ]
     },
     "execution_count": 47,
     "metadata": {},
     "output_type": "execute_result"
    }
   ],
   "source": [
    "score_summaries(summaries, validation_df['titles'][:10])"
   ]
  }
 ],
 "metadata": {
  "kernelspec": {
   "display_name": "Python 3",
   "language": "python",
   "name": "python3"
  },
  "language_info": {
   "codemirror_mode": {
    "name": "ipython",
    "version": 3
   },
   "file_extension": ".py",
   "mimetype": "text/x-python",
   "name": "python",
   "nbconvert_exporter": "python",
   "pygments_lexer": "ipython3",
   "version": "3.9.6"
  },
  "orig_nbformat": 4
 },
 "nbformat": 4,
 "nbformat_minor": 2
}
